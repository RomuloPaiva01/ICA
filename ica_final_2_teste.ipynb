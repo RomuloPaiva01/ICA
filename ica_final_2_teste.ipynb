{
  "nbformat": 4,
  "nbformat_minor": 0,
  "metadata": {
    "colab": {
      "name": "ica_final_2_teste",
      "provenance": [],
      "collapsed_sections": [],
      "authorship_tag": "ABX9TyP4TqVk2Y8DsrQGjTh9HQB0",
      "include_colab_link": true
    },
    "kernelspec": {
      "name": "python3",
      "display_name": "Python 3"
    },
    "accelerator": "GPU"
  },
  "cells": [
    {
      "cell_type": "markdown",
      "metadata": {
        "id": "view-in-github",
        "colab_type": "text"
      },
      "source": [
        "<a href=\"https://colab.research.google.com/github/RomuloPaiva01/ICA/blob/master/ica_final_2_teste.ipynb\" target=\"_parent\"><img src=\"https://colab.research.google.com/assets/colab-badge.svg\" alt=\"Open In Colab\"/></a>"
      ]
    },
    {
      "cell_type": "markdown",
      "metadata": {
        "id": "F4u8fJJzBsbr",
        "colab_type": "text"
      },
      "source": [
        "Problem:\n",
        "\n",
        "x = As, where s is the vector with the independent sources, x is the vector with the mixtures that are captured and A is the transformation matrix (done)\n",
        "\n",
        "\n",
        "z = Vx = VAs, where z is the whitened version of x\n",
        "\n",
        "Let E = ( 1, 2, ..., n ) be the matrix whose columns are the unit-norm eigenvectors of Cx = E\\{xx^t} the covariance matrix \n",
        "\n",
        "Let D = diag(d1, d2, ..., dn) be the diagonal matrix of the eigenvalues of C\n",
        "\n",
        "V = (D^(-1/2))*(E^T)\n",
        "\n",
        "Alg:\n",
        "\n",
        "1. Center the data to make its mean zero.\n",
        "\n",
        "2. Whiten the data to give z.\n",
        "\n",
        "3. Choose m , the number of independent components to estimate.\n",
        "\n",
        "4. Choose initial values for the wi , i = 1 , ... , m , each of unit norm. Orthogonalize the matrix W\n",
        "as in step 6 below.\n",
        "\n",
        "\n",
        "5.\n",
        "\n",
        "6.\n",
        "\n",
        "\n",
        "7. If not converged, go back to step 5.\n",
        "Table 8.4 The FastICA algorithm for estimating several ICs, with symmetric orthogonal-\n",
        "ization. The expectations are estimated in practice as sample averages."
      ]
    },
    {
      "cell_type": "markdown",
      "metadata": {
        "id": "nsk9SO10bvgy",
        "colab_type": "text"
      },
      "source": [
        "![alt text](https://drive.google.com/uc?export=view&id=1kcpsMZYyQhChnltGPM5ujUr_NV3f_unG)\n"
      ]
    },
    {
      "cell_type": "code",
      "metadata": {
        "id": "FQky9Q_c5bVI",
        "colab_type": "code",
        "colab": {
          "base_uri": "https://localhost:8080/",
          "height": 560
        },
        "outputId": "bd027367-dadc-43cc-e293-9096fb286fff"
      },
      "source": [
        "#creating the mixtures\n",
        "import numpy as np\n",
        "import matplotlib.pyplot as plt\n",
        "import scipy.linalg as la\n",
        "\n",
        "#creating the run object\n",
        "class Run():\n",
        "    \n",
        "    def __init__(self, distributions, coefficients, sample_size, name):\n",
        "        \n",
        "        self.distributions = distributions\n",
        "        self.coefficients = coefficients\n",
        "        self.sample_size = sample_size\n",
        "        self.name = name\n",
        "        \n",
        "\n",
        "#selecting the different distributions with their weights and sample size   \n",
        "'''\n",
        "run1 = Run(distributions = [\n",
        "    {\"type\": np.random.uniform, \"kwargs\": {\"low\": 0, \"high\":4}},\n",
        "    {\"type\": np.random.uniform, \"kwargs\": {\"low\": -2, \"high\":6}},],\n",
        "    coefficients = np.array([[0.7, 0.3], [0.4, 0.6]]),\n",
        "    sample_size = 1000,\n",
        "    name = 'Run 1')\n",
        "'''\n",
        "\n",
        "'''\n",
        "run1 = Run(distributions = [\n",
        "    {\"type\": np.random.normal, \"kwargs\": {\"loc\": 0, \"scale\": 3}},\n",
        "    {\"type\": np.random.normal, \"kwargs\": {\"loc\": 0, \"scale\": 1}}],\n",
        "    coefficients = np.array([[0.7, 0.3], [0.4, 0.6]]),\n",
        "    sample_size = 50000,\n",
        "    name = 'Run 1')\n",
        "'''\n",
        "\n",
        "\n",
        "run1 = Run(distributions = [\n",
        "    {\"type\": np.random.laplace, \"kwargs\": {\"loc\": 0, \"scale\": 5}},\n",
        "    {\"type\": np.random.laplace, \"kwargs\": {\"loc\": 0, \"scale\": 1}}],\n",
        "    coefficients = np.array([[0.7, 0.3], [0.4, 0.6]]),\n",
        "    sample_size = 1000,\n",
        "    name = 'Run 1')\n",
        "\n",
        "\n",
        "'''\n",
        "run1 = Run(distributions = [\n",
        "    {\"type\": np.random.laplace, \"kwargs\": {\"loc\": 0, \"scale\": 5}},\n",
        "    {\"type\": np.random.uniform, \"kwargs\": {\"low\": -2, \"high\":6}},],\n",
        "    coefficients = np.array([[0.7, 0.3], [0.4, 0.6]]),\n",
        "    sample_size = 5000,\n",
        "    name = 'Run 1')\n",
        "'''\n",
        "\n",
        "\n",
        "\n",
        "lst_run = [run1]\n",
        "\n",
        "\n",
        "\n",
        "#generating and plotting the mixtures\n",
        "for run in lst_run:\n",
        "\n",
        "    #number of distributions of each run\n",
        "    num_distr = len(run.distributions)\n",
        "    \n",
        "    #creating a list where we are going to put our data\n",
        "    data = np.zeros((run.sample_size, num_distr))\n",
        "    \n",
        "    #for each distribution I get the data sample, where (a,b) means a from distribution1, b from dist 2 and so on\n",
        "    for idx, distr in enumerate(run.distributions):\n",
        "        \n",
        "        data[:, idx] = distr[\"type\"](size=(run.sample_size,), **distr[\"kwargs\"])\n",
        "       \n",
        "    label_distr = []\n",
        "    \n",
        "    for i in range((num_distr)):\n",
        "        label_distr.append([run.distributions[i]['type'].__name__,run.distributions[i]['kwargs']])\n",
        "        plt.hist(data[np.arange(run.sample_size), i], bins=25, density=True)\n",
        "    \n",
        "    plt.title('distributions - ' + run.name)\n",
        "    plt.legend(label_distr, bbox_to_anchor=(1,1), loc=\"upper left\")\n",
        "    plt.show()\n",
        "\n",
        "    \n",
        "    #changing the shape of the vector\n",
        "    data_no_mix = data.T\n",
        "    data = data.T\n",
        "    #mixing the data\n",
        "    data = run.coefficients @ data\n",
        "\n",
        "\n",
        "    #ploting\n",
        "    plt.hist(data.T[np.arange(run.sample_size), i], bins=25, density=True)\n",
        "    plt.title('Mixture - ' + run.name + '- Mixture matrix '+ str(run.coefficients))\n",
        "    plt.show()\n",
        "\n"
      ],
      "execution_count": 1,
      "outputs": [
        {
          "output_type": "display_data",
          "data": {
            "image/png": "[encoded data removed]",
            "text/plain": [
              "<Figure size 432x288 with 1 Axes>"
            ]
          },
          "metadata": {
            "tags": [],
            "needs_background": "light"
          }
        },
        {
          "output_type": "display_data",
          "data": {
            "image/png": "[encoded data removed]",
            "text/plain": [
              "<Figure size 432x288 with 1 Axes>"
            ]
          },
          "metadata": {
            "tags": [],
            "needs_background": "light"
          }
        }
      ]
    },
    {
      "cell_type": "code",
      "metadata": {
        "id": "PlXyIUQbtjMT",
        "colab_type": "code",
        "colab": {
          "base_uri": "https://localhost:8080/",
          "height": 34
        },
        "outputId": "9b38298a-6c79-4805-cf52-2e8d1e436b59"
      },
      "source": [
        "data.shape"
      ],
      "execution_count": 2,
      "outputs": [
        {
          "output_type": "execute_result",
          "data": {
            "text/plain": [
              "(2, 1000)"
            ]
          },
          "metadata": {
            "tags": []
          },
          "execution_count": 2
        }
      ]
    },
    {
      "cell_type": "code",
      "metadata": {
        "id": "s3SmaJS48RJQ",
        "colab_type": "code",
        "colab": {
          "base_uri": "https://localhost:8080/",
          "height": 545
        },
        "outputId": "6150dea5-c8ca-459c-d1ba-41b228aa5f50"
      },
      "source": [
        "#plotting the joint distributions\n",
        "def plot_joint(data, title):\n",
        "\n",
        "  plt.scatter(data[0], data[1], s =1)\n",
        "  plt.title(title)\n",
        "  plt.show()\n",
        "\n",
        "\n",
        "plot_joint(data_no_mix, 'joint distribution of the independent components')\n",
        "\n",
        "plot_joint(data, 'joint distribution of the mixture')"
      ],
      "execution_count": 3,
      "outputs": [
        {
          "output_type": "display_data",
          "data": {
            "image/png": "[encoded data removed]",
            "text/plain": [
              "<Figure size 432x288 with 1 Axes>"
            ]
          },
          "metadata": {
            "tags": [],
            "needs_background": "light"
          }
        },
        {
          "output_type": "display_data",
          "data": {
            "image/png": "[encoded data removed]",
            "text/plain": [
              "<Figure size 432x288 with 1 Axes>"
            ]
          },
          "metadata": {
            "tags": [],
            "needs_background": "light"
          }
        }
      ]
    },
    {
      "cell_type": "code",
      "metadata": {
        "id": "r-VXQ9FR8atk",
        "colab_type": "code",
        "colab": {
          "base_uri": "https://localhost:8080/",
          "height": 281
        },
        "outputId": "335799ad-cfaa-463d-b961-9f70a33a8fb7"
      },
      "source": [
        "#1- center the data\n",
        "\n",
        "#We simply find the mean and subtract from each sample\n",
        "mean = np.mean(data, axis=1)\n",
        "\n",
        "#data_centered\n",
        "#data_c = []\n",
        "data_c = np.zeros((num_distr, run.sample_size))\n",
        "\n",
        "for i in range(0, run.sample_size):\n",
        "\n",
        "  data_c[0][i] = data[0][i] - mean[0]\n",
        "\n",
        "  data_c[1][i] = data[1][i] - mean[1]\n",
        "\n",
        "\n",
        "\n",
        "plot_joint(data_c, 'joint distribution of the mixture centralized')\n"
      ],
      "execution_count": 4,
      "outputs": [
        {
          "output_type": "display_data",
          "data": {
            "image/png": "[encoded data removed]",
            "text/plain": [
              "<Figure size 432x288 with 1 Axes>"
            ]
          },
          "metadata": {
            "tags": [],
            "needs_background": "light"
          }
        }
      ]
    },
    {
      "cell_type": "code",
      "metadata": {
        "id": "I8eGmFgn8jJg",
        "colab_type": "code",
        "colab": {
          "base_uri": "https://localhost:8080/",
          "height": 298
        },
        "outputId": "34bb5890-5937-471a-875e-a44f1ed82582"
      },
      "source": [
        "#2- withening the data\n",
        "\n",
        "'''\n",
        "\n",
        "Let E = ( 1, 2, ..., n ) be the matrix whose columns are the unit-norm eigenvectors of Cx = E\\{xx^t} the covariance matrix \n",
        "\n",
        "Let D = diag(d1, d2, ..., dn) be the diagonal matrix of the eigenvalues of C\n",
        "\n",
        "V = (D^(-1/2))*(E^T)\n",
        "\n",
        "'''\n",
        "\n",
        "#first step find the covariance matrix E{xx^t}\n",
        "C = np.cov(data_c)\n",
        "\n",
        "#now we can find the unit-norm eigenvectors of C\n",
        "e_values, e_vectors = np.linalg.eigh(C)\n",
        "\n",
        "\n",
        "#we need to normalize those vectors\n",
        "for i in range(len(e_vectors)):\n",
        "\n",
        "  e_vectors[i] = e_vectors[i]/la.norm(e_vectors[i])\n",
        "\n",
        "\n",
        "E = e_vectors\n",
        "\n",
        "#creating an empty D matrix nxn, where n is the number of eigenvalues\n",
        "D = e_values\n",
        "\n",
        "#calculating V\n",
        "z = np.diag(e_values**-1/2) @ e_vectors.T @ data_c\n",
        "\n",
        "plot_joint(z, 'whitened joint distribution')\n",
        "\n",
        "\n",
        "neg_entr = 0\n",
        "\n",
        "#3- choose m, the number of components\n",
        "\n",
        "m = 2\n",
        "\n",
        "from scipy.stats import kurtosis\n",
        "\n",
        "\n",
        "for i in range(m):\n",
        "\n",
        "  neg_entr +=  (1/12)*(np.mean(z[i]**3))**2  + (1/48)*((kurtosis(z[i]))**2)\n",
        "\n",
        "\n",
        "print(neg_entr)"
      ],
      "execution_count": 5,
      "outputs": [
        {
          "output_type": "display_data",
          "data": {
            "image/png": "[encoded data removed]",
            "text/plain": [
              "<Figure size 432x288 with 1 Axes>"
            ]
          },
          "metadata": {
            "tags": [],
            "needs_background": "light"
          }
        },
        {
          "output_type": "stream",
          "text": [
            "0.5077813260745344\n"
          ],
          "name": "stdout"
        }
      ]
    },
    {
      "cell_type": "code",
      "metadata": {
        "id": "Y2vuUBESBgix",
        "colab_type": "code",
        "colab": {
          "base_uri": "https://localhost:8080/",
          "height": 34
        },
        "outputId": "fda2b830-c3e5-4ec1-cabf-b55ec9f9696c"
      },
      "source": [
        "z.shape"
      ],
      "execution_count": 6,
      "outputs": [
        {
          "output_type": "execute_result",
          "data": {
            "text/plain": [
              "(2, 1000)"
            ]
          },
          "metadata": {
            "tags": []
          },
          "execution_count": 6
        }
      ]
    },
    {
      "cell_type": "code",
      "metadata": {
        "id": "h8zNznbp8pvc",
        "colab_type": "code",
        "colab": {
          "base_uri": "https://localhost:8080/",
          "height": 51
        },
        "outputId": "bc93c39f-7687-4dd8-f063-dd0e1af67a3f"
      },
      "source": [
        "#4- Choose initial values for the wi , i = 1 , ... , m , each of unit norm. Orthogonalize the matrix W with an symmetric orthogonalization.\n",
        "\n",
        "#for the number of components, I will come up with random unit vectors\n",
        "\n",
        "#first we need to be able to generate random unit vectors\n",
        "\n",
        "#dimension\n",
        "n = run.sample_size\n",
        "\n",
        "\n",
        "def gen_unit_rand_vec(n):\n",
        "\n",
        "  #generate random vector\n",
        "  x = np.random.default_rng().uniform(0,1,n)\n",
        "\n",
        "  #normalizing it\n",
        "  x = x/la.norm(x)\n",
        "\n",
        "  return x\n",
        "  \n",
        "\n",
        "#creating the matrix W (or list of vectors)\n",
        "#W = np.zeros(shape=(m,n), dtype='complex')\n",
        "W = np.zeros(shape=(m,n))\n",
        "\n",
        "for i in range(m):\n",
        "\n",
        "  #W[i][i] = 1\n",
        "\n",
        "  W[i] = (gen_unit_rand_vec(n))\n",
        "\n",
        "\n",
        "#print('inicializando w como matriz identidade ou nao, ', W)\n",
        "\n",
        "#print('checando a ortogonalidade, produto cruzado = ', W[0] @ W[1])\n",
        "\n",
        "# W = ((W(W^T)^-1/2)W)\n",
        "def sym_ortagonalization(W):\n",
        "\n",
        "  #W = np.dot((la.fractional_matrix_power(np.dot(W, W.transpose(), -1/2)), W))\n",
        "\n",
        "  #print('wwt', W@(W.T) )\n",
        "\n",
        "  #print('fractional', la.fractional_matrix_power((W@(W.T)),-1/2))\n",
        "\n",
        "  W = (la.fractional_matrix_power((W@(W.T)),-1/2))@W\n",
        "\n",
        "  return W\n",
        "\n",
        "\n",
        "W_aux = sym_ortagonalization(W)\n",
        "\n",
        "W = W_aux\n",
        "\n",
        "#print('W ortogonalizado na primeira', W)\n",
        "#print('checando a ortogonalidade, produto cruzado = ', W[0] @ W[1])\n",
        "lst_neg_entr = []\n",
        "lst_w = []\n",
        "\n",
        "#print('########')\n",
        "#print('entrando no passo 5')\n",
        "#print('########')\n",
        "\n",
        "for j in range(2):\n",
        "  # Step 5\n",
        "\n",
        "  print('iteration ', j)\n",
        "\n",
        "  '''\n",
        "  wi <- E{zg(wi^T z)} - E{g'(wi^T z)}*w\n",
        "\n",
        "  where,\n",
        "\n",
        "  g = y³\n",
        "\n",
        "  '''\n",
        "\n",
        "\n",
        "\n",
        "  #print('W antes', W)\n",
        "  #changing the g\n",
        "  for i in range(m):\n",
        "\n",
        "    #W_aux1 = W\n",
        "\n",
        "    W[i] = (np.dot(z.T, ((np.dot(W[i].T, z.T))**3))) - ((np.dot((3*(np.dot(W[i].T, z.T))**2), W)))\n",
        "\n",
        "    \n",
        "  '''\n",
        "  now we have to define an approximation to the mutual information\n",
        "\n",
        "  I(y1, y2, ..., yn) = -Sum(E{Gi(yi)}) -log|det B| - H(x)\n",
        "\n",
        "  s = Bx\n",
        "\n",
        "  H is the differential entropy\n",
        "\n",
        "\n",
        "\n",
        "  another approximation and the one that we are going to use is\n",
        "\n",
        "  I(Y) = const - Sum(J(yi))\n",
        "\n",
        "  J(y) aprox = 1/12 * E{y³}² + 1/48 * kurt(y)^2\n",
        "\n",
        "  '''\n",
        "\n",
        "  #print('W depois de 1', W)\n",
        "\n",
        "  W_aux = sym_ortagonalization(W)\n",
        "\n",
        "  W = W_aux\n",
        "\n",
        "  #print('W depois de 2', W)\n",
        "\n",
        "  #print('checando a ortogonalidade, produto cruzado = ', W[0] @ W[1])\n",
        "\n",
        "\n",
        "  neg_entr = 0\n",
        "\n",
        "  for i in range(m):\n",
        "\n",
        "    neg_entr +=  (1/12)*(np.mean(W[i]**3))**2  + (1/48)*(kurtosis(W[i]))**2\n",
        "\n",
        "\n",
        "  lst_neg_entr.append(neg_entr)\n",
        "  lst_w.append(W)\n",
        "\n",
        "\n",
        "  def plot_joint2(W):\n",
        "\n",
        "    lst_x = []\n",
        "\n",
        "    lst_y = []\n",
        "\n",
        "    for i in range(len(W[0])):\n",
        "\n",
        "      lst_x.append(W[0][i])\n",
        "\n",
        "      lst_y.append(W[1][i])\n",
        "\n",
        "    plt.scatter(lst_x, lst_y, s =0.5)\n",
        "    plt.title('joint distribution')\n",
        "    plt.show()\n",
        "\n",
        "\n",
        "  #plot_joint2(W)"
      ],
      "execution_count": 7,
      "outputs": [
        {
          "output_type": "stream",
          "text": [
            "iteration  0\n",
            "iteration  1\n"
          ],
          "name": "stdout"
        }
      ]
    },
    {
      "cell_type": "code",
      "metadata": {
        "id": "Pea0IFHc711f",
        "colab_type": "code",
        "colab": {
          "base_uri": "https://localhost:8080/",
          "height": 85
        },
        "outputId": "96fef094-b3e8-41c3-d7ec-23b52873f427"
      },
      "source": [
        "z"
      ],
      "execution_count": 8,
      "outputs": [
        {
          "output_type": "execute_result",
          "data": {
            "text/plain": [
              "array([[-3.18919162e+00, -1.64448353e+00,  8.30478159e-02, ...,\n",
              "         2.61513056e-01, -1.61337900e+00,  5.23323901e-01],\n",
              "       [-2.86807913e-03, -1.99012817e-03,  1.62378428e-01, ...,\n",
              "        -1.08843336e-01, -6.99956155e-02,  8.12799095e-03]])"
            ]
          },
          "metadata": {
            "tags": []
          },
          "execution_count": 8
        }
      ]
    },
    {
      "cell_type": "code",
      "metadata": {
        "id": "-mivOlnM17M3",
        "colab_type": "code",
        "colab": {
          "base_uri": "https://localhost:8080/",
          "height": 34
        },
        "outputId": "d47b5030-4cd9-49b4-b5f9-18a0ccdf15f4"
      },
      "source": [
        "W.shape"
      ],
      "execution_count": 9,
      "outputs": [
        {
          "output_type": "execute_result",
          "data": {
            "text/plain": [
              "(2, 1000)"
            ]
          },
          "metadata": {
            "tags": []
          },
          "execution_count": 9
        }
      ]
    },
    {
      "cell_type": "code",
      "metadata": {
        "id": "GJj5aeC99mvx",
        "colab_type": "code",
        "colab": {
          "base_uri": "https://localhost:8080/",
          "height": 282
        },
        "outputId": "d3134d69-3246-451a-bad3-ee0406d1d352"
      },
      "source": [
        "plt.plot(lst_neg_entr)"
      ],
      "execution_count": 10,
      "outputs": [
        {
          "output_type": "execute_result",
          "data": {
            "text/plain": [
              "[<matplotlib.lines.Line2D at 0x7f625fb894e0>]"
            ]
          },
          "metadata": {
            "tags": []
          },
          "execution_count": 10
        },
        {
          "output_type": "display_data",
          "data": {
            "image/png": "[encoded data removed]",
            "text/plain": [
              "<Figure size 432x288 with 1 Axes>"
            ]
          },
          "metadata": {
            "tags": [],
            "needs_background": "light"
          }
        }
      ]
    },
    {
      "cell_type": "code",
      "metadata": {
        "id": "4VVZ5MRqp50Z",
        "colab_type": "code",
        "colab": {
          "base_uri": "https://localhost:8080/",
          "height": 281
        },
        "outputId": "eccb2802-dbbd-4e76-dfb2-4927ebbc8808"
      },
      "source": [
        "#I will get the best W\n",
        "\n",
        "index = lst_neg_entr.index(max(lst_neg_entr))\n",
        "\n",
        "\n",
        "\n",
        "s1 = lst_w[index][0]\n",
        "\n",
        "s2 = lst_w[index][1]\n",
        "\n",
        "plot_joint2(lst_w[index])"
      ],
      "execution_count": 11,
      "outputs": [
        {
          "output_type": "display_data",
          "data": {
            "image/png": "[encoded data removed]",
            "text/plain": [
              "<Figure size 432x288 with 1 Axes>"
            ]
          },
          "metadata": {
            "tags": [],
            "needs_background": "light"
          }
        }
      ]
    },
    {
      "cell_type": "code",
      "metadata": {
        "id": "cFpbZCmt3ZKU",
        "colab_type": "code",
        "colab": {
          "base_uri": "https://localhost:8080/",
          "height": 554
        },
        "outputId": "bd5b29ae-dd00-467f-a38c-b129b06b1b81"
      },
      "source": [
        "plt.hist(s1.T, bins = 50)"
      ],
      "execution_count": 12,
      "outputs": [
        {
          "output_type": "execute_result",
          "data": {
            "text/plain": [
              "(array([  1.,   0.,   0.,   0.,   0.,   2.,   1.,   0.,   2.,   1.,   2.,\n",
              "          2.,   3.,   6.,  10.,   6.,   7.,   9.,   3.,   8.,  18.,  25.,\n",
              "         26.,  40.,  40.,  55.,  50.,  84., 102.,  98.,  79.,  70.,  60.,\n",
              "         29.,  30.,  28.,  24.,  12.,  15.,  10.,   8.,   5.,   9.,   1.,\n",
              "          3.,   6.,   0.,   4.,   3.,   3.]),\n",
              " array([-0.1442794 , -0.13922774, -0.13417608, -0.12912442, -0.12407276,\n",
              "        -0.1190211 , -0.11396944, -0.10891778, -0.10386612, -0.09881446,\n",
              "        -0.0937628 , -0.08871115, -0.08365949, -0.07860783, -0.07355617,\n",
              "        -0.06850451, -0.06345285, -0.05840119, -0.05334953, -0.04829787,\n",
              "        -0.04324621, -0.03819456, -0.0331429 , -0.02809124, -0.02303958,\n",
              "        -0.01798792, -0.01293626, -0.0078846 , -0.00283294,  0.00221872,\n",
              "         0.00727038,  0.01232204,  0.01737369,  0.02242535,  0.02747701,\n",
              "         0.03252867,  0.03758033,  0.04263199,  0.04768365,  0.05273531,\n",
              "         0.05778697,  0.06283863,  0.06789029,  0.07294194,  0.0779936 ,\n",
              "         0.08304526,  0.08809692,  0.09314858,  0.09820024,  0.1032519 ,\n",
              "         0.10830356]),\n",
              " <a list of 50 Patch objects>)"
            ]
          },
          "metadata": {
            "tags": []
          },
          "execution_count": 12
        },
        {
          "output_type": "display_data",
          "data": {
            "image/png": "[encoded data removed]",
            "text/plain": [
              "<Figure size 432x288 with 1 Axes>"
            ]
          },
          "metadata": {
            "tags": [],
            "needs_background": "light"
          }
        }
      ]
    },
    {
      "cell_type": "code",
      "metadata": {
        "id": "txyCehbO5bdi",
        "colab_type": "code",
        "colab": {
          "base_uri": "https://localhost:8080/",
          "height": 556
        },
        "outputId": "37517928-70f1-43f9-b292-545cf4a7cea2"
      },
      "source": [
        "plt.hist(s2, bins = 50)"
      ],
      "execution_count": 13,
      "outputs": [
        {
          "output_type": "execute_result",
          "data": {
            "text/plain": [
              "(array([  1.,   0.,   0.,   0.,   0.,   0.,   0.,   1.,   1.,   1.,   2.,\n",
              "          3.,   1.,   3.,   9.,   6.,   7.,   8.,  17.,  28.,  35.,  49.,\n",
              "         83., 100., 143., 154.,  91.,  70.,  56.,  31.,  27.,  15.,  15.,\n",
              "          9.,   3.,   5.,   9.,   3.,   2.,   4.,   1.,   1.,   1.,   2.,\n",
              "          0.,   1.,   0.,   0.,   1.,   1.]),\n",
              " array([-0.17511803, -0.16815227, -0.16118651, -0.15422075, -0.14725499,\n",
              "        -0.14028923, -0.13332347, -0.12635771, -0.11939195, -0.11242619,\n",
              "        -0.10546043, -0.09849467, -0.09152891, -0.08456315, -0.07759739,\n",
              "        -0.07063163, -0.06366587, -0.05670011, -0.04973435, -0.04276859,\n",
              "        -0.03580283, -0.02883707, -0.0218713 , -0.01490554, -0.00793978,\n",
              "        -0.00097402,  0.00599174,  0.0129575 ,  0.01992326,  0.02688902,\n",
              "         0.03385478,  0.04082054,  0.0477863 ,  0.05475206,  0.06171782,\n",
              "         0.06868358,  0.07564934,  0.0826151 ,  0.08958086,  0.09654662,\n",
              "         0.10351238,  0.11047814,  0.1174439 ,  0.12440966,  0.13137542,\n",
              "         0.13834118,  0.14530694,  0.1522727 ,  0.15923846,  0.16620422,\n",
              "         0.17316998]),\n",
              " <a list of 50 Patch objects>)"
            ]
          },
          "metadata": {
            "tags": []
          },
          "execution_count": 13
        },
        {
          "output_type": "display_data",
          "data": {
            "image/png": "[encoded data removed]",
            "text/plain": [
              "<Figure size 432x288 with 1 Axes>"
            ]
          },
          "metadata": {
            "tags": [],
            "needs_background": "light"
          }
        }
      ]
    }
  ]
}